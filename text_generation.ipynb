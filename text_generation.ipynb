{
 "cells": [
  {
   "cell_type": "markdown",
   "metadata": {},
   "source": [
    "Oksana Dereza"
   ]
  },
  {
   "cell_type": "markdown",
   "metadata": {},
   "source": [
    "## Poetry & Python\n",
    "\n",
    "A simple character-based model for text generation.\n"
   ]
  },
  {
   "cell_type": "code",
   "execution_count": 2,
   "metadata": {
    "collapsed": false
   },
   "outputs": [],
   "source": [
    "import re\n",
    "from collections import Counter, defaultdict\n",
    "\n",
    "class LanguageModel:\n",
    "    def __init__(self, data, order=4):\n",
    "        self.order = order\n",
    "        pad = '~' * order\n",
    "        self.data = pad + data.lower()\n",
    "        self.ngrams = self.make_ngrams()\n",
    "        self.alphabet = set(self.data)\n",
    "        self.matrix = self.make_matrix()\n",
    "\n",
    "        self.lm = {history: self.normalize(chars) for history, chars in self.matrix.items()}\n",
    "        \n",
    "    def make_ngrams(self):\n",
    "        n = self.order + 1\n",
    "        self.ngrams = [self.data[i:i+n] for i in range(len(self.data)-n+1)]\n",
    "        return self.ngrams\n",
    "    \n",
    "    def make_matrix(self):\n",
    "        self.matrix = defaultdict(lambda: defaultdict(int))\n",
    "        for ngram in self.ngrams:\n",
    "            matches = re.findall(ngram, self.data)\n",
    "            self.matrix[ngram[:-1]][ngram[-1]] = Counter(matches)[ngram]\n",
    "        return self.matrix          \n",
    "    \n",
    "    def normalize(self, chars):\n",
    "        total = sum(chars.values())\n",
    "        normalized = {}\n",
    "        for k, v in chars.items():\n",
    "            normalized[k] = v/total\n",
    "        return normalized\n",
    "    \n",
    "    def __getitem__(self, history):\n",
    "        return self.lm[history]"
   ]
  },
  {
   "cell_type": "code",
   "execution_count": 4,
   "metadata": {
    "collapsed": false
   },
   "outputs": [],
   "source": [
    "text = \"Poetry has a long history, dating back to the Sumerian Epic of Gilgamesh. Early poems evolved from folk songs such as the Chinese Shijing, or from a need to retell oral epics, as with the Sanskrit Vedas, Zoroastrian Gathas, and the Homeric epics, the Iliad and the Odyssey. Ancient attempts to define poetry, such as Aristotle's Poetics, focused on the uses of speech in rhetoric, drama, song and comedy. Later attempts concentrated on features such as repetition, verse form and rhyme, and emphasized the aesthetics which distinguish poetry from more objectively informative, prosaic forms of writing. From the mid-20th century, poetry has sometimes been more generally regarded as a fundamental creative act employing language. \\\n",
    "Poetry uses forms and conventions to suggest differential interpretation to words, or to evoke emotive responses. Devices such as assonance, alliteration, onomatopoeia and rhythm are sometimes used to achieve musical or incantatory effects. The use of ambiguity, symbolism, irony and other stylistic elements of poetic diction often leaves a poem open to multiple interpretations. Similarly figures of speech such as metaphor, simile and metonymy create a resonance between otherwise disparate images—a layering of meanings, forming connections previously not perceived. Kindred forms of resonance may exist, between individual verses, in their patterns of rhyme or rhythm. \\\n",
    "Some poetry types are specific to particular cultures and genres and respond to characteristics of the language in which the poet writes. Readers accustomed to identifying poetry with Dante, Goethe, Mickiewicz and Rumi may think of it as written in lines based on rhyme and regular meter; there are, however, traditions, such as Biblical poetry, that use other means to create rhythm and euphony. Much modern poetry reflects a critique of poetic tradition, playing with and testing, among other things, the principle of euphony itself, sometimes altogether forgoing rhyme or set rhythm. In today's increasingly globalized world, poets often adapt forms, styles and techniques from diverse cultures and languages.\\\n",
    "Python is a widely used high-level, general-purpose, interpreted, dynamic programming language. Its design philosophy emphasizes code readability, and its syntax allows programmers to express concepts in fewer lines of code than possible in languages such as Java. The language provides constructs intended to enable writing clear programs on both a small and large scale. \\\n",
    "Python supports multiple programming paradigms, including object-oriented, imperative and functional programming or procedural styles. It features a dynamic type system and automatic memory management and has a large and comprehensive standard library. \\\n",
    "Python interpreters are available for many operating systems, allowing Python code to run on a wide variety of systems. CPython, the reference implementation of Python, is open source software and has a community-based development model, as do nearly all of its variant implementations. CPython is managed by the non-profit Python Software Foundation.\"\n",
    "\n",
    "lm = LanguageModel(text)"
   ]
  },
  {
   "cell_type": "code",
   "execution_count": 5,
   "metadata": {
    "collapsed": false
   },
   "outputs": [
    {
     "data": {
      "text/plain": [
       "['~~~~p',\n",
       " '~~~po',\n",
       " '~~poe',\n",
       " '~poet',\n",
       " 'poetr',\n",
       " 'oetry',\n",
       " 'etry ',\n",
       " 'try h',\n",
       " 'ry ha',\n",
       " 'y has']"
      ]
     },
     "execution_count": 5,
     "metadata": {},
     "output_type": "execute_result"
    }
   ],
   "source": [
    "lm.ngrams[:10]"
   ]
  },
  {
   "cell_type": "code",
   "execution_count": 14,
   "metadata": {
    "collapsed": false
   },
   "outputs": [
    {
     "data": {
      "text/plain": [
       "['r', 's', ' ', 'i']"
      ]
     },
     "execution_count": 14,
     "metadata": {},
     "output_type": "execute_result"
    }
   ],
   "source": [
    "list(lm['poet'].keys())"
   ]
  },
  {
   "cell_type": "code",
   "execution_count": 21,
   "metadata": {
    "collapsed": true
   },
   "outputs": [],
   "source": [
    "# functions for character and text generation\n",
    "\n",
    "import numpy as np\n",
    "\n",
    "def generate_letter(lm, history):\n",
    "    history = history[-lm.order:]\n",
    "    best = np.random.choice(list(lm[history].keys()), 1, p=list(lm[history].values()))\n",
    "    return best[0]\n",
    "\n",
    "def generate_text(lm, n_letters=1000):\n",
    "    history = '~' * lm.order\n",
    "    out = []\n",
    "    for i in range(n_letters):\n",
    "        letter = generate_letter(lm, history)\n",
    "        history += letter     \n",
    "    return history"
   ]
  },
  {
   "cell_type": "code",
   "execution_count": 22,
   "metadata": {
    "collapsed": false
   },
   "outputs": [
    {
     "data": {
      "text/plain": [
       "'r'"
      ]
     },
     "execution_count": 22,
     "metadata": {},
     "output_type": "execute_result"
    }
   ],
   "source": [
    "generate_letter(lm, 'poet')"
   ]
  },
  {
   "cell_type": "code",
   "execution_count": 23,
   "metadata": {
    "collapsed": false
   },
   "outputs": [
    {
     "data": {
      "text/plain": [
       "\"~~~~poetry types and resonance may exist, between other meter; their pattempts to run on both and fundamentation today's in the used devices such as assonance, all and concepts constructs a critiques forms, interpretations. simile and has some poetry types and comprehensive readers accustomed the sanskrit vedas, zoroastriant implements of speech in to evolved from more general-purpose, intended as the aesthetic dictional poet written leaves and automatopoeia and large and language. poetry has a long\""
      ]
     },
     "execution_count": 23,
     "metadata": {},
     "output_type": "execute_result"
    }
   ],
   "source": [
    "generate_text(lm, n_letters=500)"
   ]
  }
 ],
 "metadata": {
  "anaconda-cloud": {},
  "kernelspec": {
   "display_name": "Python 3",
   "language": "python",
   "name": "python3"
  },
  "language_info": {
   "codemirror_mode": {
    "name": "ipython",
    "version": 3
   },
   "file_extension": ".py",
   "mimetype": "text/x-python",
   "name": "python",
   "nbconvert_exporter": "python",
   "pygments_lexer": "ipython3",
   "version": "3.4.3"
  }
 },
 "nbformat": 4,
 "nbformat_minor": 0
}
