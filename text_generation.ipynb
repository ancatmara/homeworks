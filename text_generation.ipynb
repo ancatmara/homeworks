{
 "cells": [
  {
   "cell_type": "markdown",
   "metadata": {},
   "source": [
    "Oksana Dereza"
   ]
  },
  {
   "cell_type": "markdown",
   "metadata": {},
   "source": [
    "## Poetry & Python\n",
    "\n",
    "A simple character-based model for text generation.\n"
   ]
  },
  {
   "cell_type": "code",
   "execution_count": 167,
   "metadata": {
    "collapsed": false
   },
   "outputs": [],
   "source": [
    "import re\n",
    "from nltk import ngrams\n",
    "from collections import Counter, defaultdict\n",
    "\n",
    "punkt = ',…—\\–()[].!?:﻿;\\‘’\"„“«»*-+'\n",
    "\n",
    "class LanguageModel:\n",
    "    def __init__(self, data, order=4):\n",
    "        self.order = order\n",
    "        self.pad = '~' * order\n",
    "        self.data = self.preprocess(data)\n",
    "        self.ngrams = self.make_ngrams()\n",
    "        self.alphabet = set(self.data)\n",
    "        self.matrix = self.make_matrix()\n",
    "\n",
    "        self.lm = {history: self.normalize(chars) for history, chars in self.matrix.items()}\n",
    "        \n",
    "    def make_ngrams(self):\n",
    "        self.ngrams = ngrams(self.data, self.order)\n",
    "        self.ngrams = [''.join(ngram) for ngram in self.ngrams]\n",
    "        return self.ngrams\n",
    "    \n",
    "    def make_matrix(self):\n",
    "        self.matrix = defaultdict(lambda: defaultdict(int))\n",
    "        for ngram in self.ngrams:\n",
    "            for symbol in self.alphabet:\n",
    "                matches = re.findall(ngram+symbol, self.data)\n",
    "                self.matrix[ngram][symbol] = Counter(matches)[ngram+symbol]\n",
    "        return self.matrix          \n",
    "        \n",
    "    def preprocess(self, text):\n",
    "        self.data = text.split()\n",
    "        self.data = [w.lower().strip(punkt) for w in self.data]\n",
    "        self.chars = ' '.join(self.data)\n",
    "        self.chars = self.pad + self.chars\n",
    "        return self.chars\n",
    "    \n",
    "    def normalize(self, chars):\n",
    "        normalized = {}\n",
    "        for k, v in chars.items():\n",
    "            normalized[k] = v/sum(chars.values())\n",
    "        return normalized\n",
    "    \n",
    "    def __getitem__(self, history):\n",
    "        return self.lm[history]"
   ]
  },
  {
   "cell_type": "code",
   "execution_count": 168,
   "metadata": {
    "collapsed": false
   },
   "outputs": [],
   "source": [
    "text = \"Poetry has a long history, dating back to the Sumerian Epic of Gilgamesh. Early poems evolved from folk songs such as the Chinese Shijing, or from a need to retell oral epics, as with the Sanskrit Vedas, Zoroastrian Gathas, and the Homeric epics, the Iliad and the Odyssey. Ancient attempts to define poetry, such as Aristotle's Poetics, focused on the uses of speech in rhetoric, drama, song and comedy. Later attempts concentrated on features such as repetition, verse form and rhyme, and emphasized the aesthetics which distinguish poetry from more objectively informative, prosaic forms of writing. From the mid-20th century, poetry has sometimes been more generally regarded as a fundamental creative act employing language. \\\n",
    "Poetry uses forms and conventions to suggest differential interpretation to words, or to evoke emotive responses. Devices such as assonance, alliteration, onomatopoeia and rhythm are sometimes used to achieve musical or incantatory effects. The use of ambiguity, symbolism, irony and other stylistic elements of poetic diction often leaves a poem open to multiple interpretations. Similarly figures of speech such as metaphor, simile and metonymy create a resonance between otherwise disparate images—a layering of meanings, forming connections previously not perceived. Kindred forms of resonance may exist, between individual verses, in their patterns of rhyme or rhythm. \\\n",
    "Some poetry types are specific to particular cultures and genres and respond to characteristics of the language in which the poet writes. Readers accustomed to identifying poetry with Dante, Goethe, Mickiewicz and Rumi may think of it as written in lines based on rhyme and regular meter; there are, however, traditions, such as Biblical poetry, that use other means to create rhythm and euphony. Much modern poetry reflects a critique of poetic tradition, playing with and testing, among other things, the principle of euphony itself, sometimes altogether forgoing rhyme or set rhythm. In today's increasingly globalized world, poets often adapt forms, styles and techniques from diverse cultures and languages.\\\n",
    "Python is a widely used high-level, general-purpose, interpreted, dynamic programming language. Its design philosophy emphasizes code readability, and its syntax allows programmers to express concepts in fewer lines of code than possible in languages such as C++ or Java. The language provides constructs intended to enable writing clear programs on both a small and large scale. \\\n",
    "Python supports multiple programming paradigms, including object-oriented, imperative and functional programming or procedural styles. It features a dynamic type system and automatic memory management and has a large and comprehensive standard library. \\\n",
    "Python interpreters are available for many operating systems, allowing Python code to run on a wide variety of systems. CPython, the reference implementation of Python, is open source software and has a community-based development model, as do nearly all of its variant implementations. CPython is managed by the non-profit Python Software Foundation.\"\n",
    "\n",
    "lm = LanguageModel(text)"
   ]
  },
  {
   "cell_type": "code",
   "execution_count": 169,
   "metadata": {
    "collapsed": false
   },
   "outputs": [
    {
     "data": {
      "text/plain": [
       "['~~~~',\n",
       " '~~~p',\n",
       " '~~po',\n",
       " '~poe',\n",
       " 'poet',\n",
       " 'oetr',\n",
       " 'etry',\n",
       " 'try ',\n",
       " 'ry h',\n",
       " 'y ha']"
      ]
     },
     "execution_count": 169,
     "metadata": {},
     "output_type": "execute_result"
    }
   ],
   "source": [
    "lm.ngrams[:10]"
   ]
  },
  {
   "cell_type": "code",
   "execution_count": 170,
   "metadata": {
    "collapsed": true
   },
   "outputs": [],
   "source": [
    "# functions for character and text generation\n",
    "\n",
    "import random\n",
    "\n",
    "def generate_letter(lm, history):\n",
    "    history = history[-lm.order:]\n",
    "    n_best = [key for key in lm[history] if lm[history][key]== max(lm[history].values())]\n",
    "    best = random.choice(n_best)\n",
    "    return best\n",
    "\n",
    "def generate_text(lm, n_letters=1000):\n",
    "    history = '~' * lm.order\n",
    "    out = []\n",
    "    for i in range(n_letters):\n",
    "        letter = generate_letter(lm, history)\n",
    "        history += letter     \n",
    "    return history"
   ]
  },
  {
   "cell_type": "code",
   "execution_count": 171,
   "metadata": {
    "collapsed": false
   },
   "outputs": [
    {
     "data": {
      "text/plain": [
       "'r'"
      ]
     },
     "execution_count": 171,
     "metadata": {},
     "output_type": "execute_result"
    }
   ],
   "source": [
    "generate_letter(lm, 'poet')"
   ]
  },
  {
   "cell_type": "code",
   "execution_count": 173,
   "metadata": {
    "collapsed": false
   },
   "outputs": [
    {
     "data": {
      "text/plain": [
       "'~~~~poetry has a layering or set rhyme and rhythm and respond the use other forms of poetry has a criting or programming or including or rhythm are are speech in to evolved kindred from the sanskrit vedas zoroastrian gathas a criting or rhythm are are are speech in language its design philosophy emphasized to evoke emotive and rhythm are speech such as a large and regular metonymy create a responses it as a comedy later things such as a criting or similarly allows previously not perceived from diver'"
      ]
     },
     "execution_count": 173,
     "metadata": {},
     "output_type": "execute_result"
    }
   ],
   "source": [
    "generate_text(lm, n_letters=500)"
   ]
  }
 ],
 "metadata": {
  "kernelspec": {
   "display_name": "Python 3",
   "language": "python",
   "name": "python3"
  },
  "language_info": {
   "codemirror_mode": {
    "name": "ipython",
    "version": 3
   },
   "file_extension": ".py",
   "mimetype": "text/x-python",
   "name": "python",
   "nbconvert_exporter": "python",
   "pygments_lexer": "ipython3",
   "version": "3.4.3"
  }
 },
 "nbformat": 4,
 "nbformat_minor": 0
}
